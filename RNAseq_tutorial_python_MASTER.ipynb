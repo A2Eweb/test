{
  "nbformat": 4,
  "nbformat_minor": 0,
  "metadata": {
    "colab": {
      "name": "RNAseq_tutorial_python_MASTER.ipynb",
      "provenance": [],
      "collapsed_sections": [],
      "include_colab_link": true
    },
    "kernelspec": {
      "name": "python3",
      "display_name": "Python 3"
    }
  },
  "cells": [
    {
      "cell_type": "markdown",
      "metadata": {
        "id": "view-in-github",
        "colab_type": "text"
      },
      "source": [
        "<a href=\"https://colab.research.google.com/github/A2Eweb/test/blob/master/RNAseq_tutorial_python_MASTER.ipynb\" target=\"_parent\"><img src=\"https://colab.research.google.com/assets/colab-badge.svg\" alt=\"Open In Colab\"/></a>"
      ]
    },
    {
      "cell_type": "markdown",
      "metadata": {
        "id": "eUh1Uc6uhDzH",
        "colab_type": "text"
      },
      "source": [
        "In this tutorial you will practice some first steps for exploring the results of an RNA sequencing experiment. In this notebook you will:\n",
        "\n",
        "*   become familiar with the format of data produced by RNA sequencing\n",
        "*   learn important normalization steps\n",
        "*   conduct a principal component analysis\n",
        "\n",
        "This notebook is not editable. To get started - make a copy of this notebook for yourself, and then edit away!\n"
      ]
    },
    {
      "cell_type": "markdown",
      "metadata": {
        "id": "YCCm8IZ9Syz3",
        "colab_type": "text"
      },
      "source": [
        "### The Experiment"
      ]
    },
    {
      "cell_type": "markdown",
      "metadata": {
        "id": "lcIbCJiRWbLF",
        "colab_type": "text"
      },
      "source": [
        "We will be working with RNA sequencing data from an experiment measuring gene expression in the algae _Chromochloris zofingiensis_. "
      ]
    },
    {
      "cell_type": "markdown",
      "metadata": {
        "id": "bCZmwQVjhP8E",
        "colab_type": "text"
      },
      "source": [
        "<table><tr><td>\n",
        "\n",
        "This algae is important because:  \n",
        "\n",
        "+ it stores large amounts of energy from the sun,  which can then be turned into biofuel\n",
        "+ it produces molecules that are beneficial for human health, like antioxidants</td>\n",
        "\n",
        "<td>\n",
        "<img src=\"https://phycocosm.jgi.doe.gov/public/Chrzof1/Roth_Algae2_TL+Pos+000+Time+115.jpg;jsessionid=208F5C1784C8309971029B88947B5595\" width=\"250\" ></td>\n",
        "\n",
        "</tr>\n",
        "</table>\n"
      ]
    },
    {
      "cell_type": "markdown",
      "metadata": {
        "id": "DxJ7vwfhVh2A",
        "colab_type": "text"
      },
      "source": [
        "Recently, scientists performed an experiment to figure out which genes were most important for these functions.  You can read more about the experiment [here](https://www.pnas.org/content/114/21/E4296). Specifically pay attention to the section titled \"High Light-Induced Gene Expression\", where scientists looked at which genes were 'turned on' (ie. increased their expression levels) when _C. zofingiensis_ samples were exposed to stronger light."
      ]
    },
    {
      "cell_type": "markdown",
      "metadata": {
        "id": "sB69sxcOSh4o",
        "colab_type": "text"
      },
      "source": [
        "Why would it be helpful for scientists to know which genes were expressed when the algae was exposed to high light?"
      ]
    },
    {
      "cell_type": "markdown",
      "metadata": {
        "id": "b3n8X_KngGtm",
        "colab_type": "text"
      },
      "source": [
        "_add your answers here_"
      ]
    },
    {
      "cell_type": "markdown",
      "metadata": {
        "id": "v7QlhA6_fuAI",
        "colab_type": "text"
      },
      "source": [
        "#### Download RNA-seq data"
      ]
    },
    {
      "cell_type": "markdown",
      "metadata": {
        "id": "yRL7BwUagNYk",
        "colab_type": "text"
      },
      "source": [
        "Now let's download the data.  The RNA-seq reads for each sample have already been aligned to a reference genome, and the number of reads matching each gene in each sample have been counted. Run the code below to download a text file containing a matrix of gene expression data for many different _C. zofingiensis_ samples. The matrix will be saved to a file in your google colab directory called 'rnaseq_raw_counts.txt'."
      ]
    },
    {
      "cell_type": "code",
      "metadata": {
        "id": "-NMvC21dhQWo",
        "colab_type": "code",
        "colab": {}
      },
      "source": [
        "file_id = \"1ExdcAKMvn0QaEv4a8AaG1Dgy2TvlcVlm\"\n",
        "file_download_link = \"https://docs.google.com/uc?export=download&id=\" + file_id \n",
        "\n",
        "!wget -q -O rnaseq_raw_counts.txt --no-check-certificate \"$file_download_link\""
      ],
      "execution_count": null,
      "outputs": []
    },
    {
      "cell_type": "code",
      "metadata": {
        "id": "_izuABIy82zG",
        "colab_type": "code",
        "colab": {}
      },
      "source": [
        "!ls ## run this command ('ls') to list the files in the current directory"
      ],
      "execution_count": null,
      "outputs": []
    },
    {
      "cell_type": "markdown",
      "metadata": {
        "id": "C79USuF-z85R",
        "colab_type": "text"
      },
      "source": [
        "### Read in the data with pandas"
      ]
    },
    {
      "cell_type": "markdown",
      "metadata": {
        "id": "OW4dY5Heg8YO",
        "colab_type": "text"
      },
      "source": [
        "Now we can start with python!  Enter code below to read the file into python as a pandas data matrix object. Call this variable `rna_data`.  To read in the data correctly, note that:\n",
        "+ the separator between fields is a tab\n",
        "+ the first row is column headers, and the first column is row headers"
      ]
    },
    {
      "cell_type": "code",
      "metadata": {
        "id": "Hqbh-eJUhdfL",
        "colab_type": "code",
        "colab": {}
      },
      "source": [
        "#type your code here\n"
      ],
      "execution_count": null,
      "outputs": []
    },
    {
      "cell_type": "markdown",
      "metadata": {
        "id": "YfUtBPnP0JeP",
        "colab_type": "text"
      },
      "source": [
        "### Describe the data"
      ]
    },
    {
      "cell_type": "markdown",
      "metadata": {
        "id": "bmCRYchnuw91",
        "colab_type": "text"
      },
      "source": [
        "What are the dimensions of the data matrix we just imported?"
      ]
    },
    {
      "cell_type": "code",
      "metadata": {
        "id": "O8P1uThj89b-",
        "colab_type": "code",
        "colab": {}
      },
      "source": [
        "#type your code here\n"
      ],
      "execution_count": null,
      "outputs": []
    },
    {
      "cell_type": "markdown",
      "metadata": {
        "id": "hkTjfuFxu6F5",
        "colab_type": "text"
      },
      "source": [
        "That's pretty big. We want to be careful not to try to look at the whole matrix at once because it will fill up the screen with endless numbers. Write code below to print just the first 10 rows and 10 columns to see what a little piece of the data looks like.\n",
        "\n"
      ]
    },
    {
      "cell_type": "code",
      "metadata": {
        "colab_type": "code",
        "id": "BhyandrE9DoB",
        "colab": {}
      },
      "source": [
        "#type your code here\n"
      ],
      "execution_count": null,
      "outputs": []
    },
    {
      "cell_type": "markdown",
      "metadata": {
        "id": "meElwt0pvAIe",
        "colab_type": "text"
      },
      "source": [
        "In this matrix the genes are listed in rows and samples are in the columns.  \n",
        "\n",
        "The gene IDs (row headers) all have the form 'Cz' followed by a number, then the letter 'g', then another number.  'Cz' indicates that the gene is from the species _Chromochloris zofingiensis_, the first number indicates which chromosome the gene is on, and the second number is a randomly assigned ID number.  \n",
        "\n",
        "The sample names (column headers) tell us whether each algae was grown in medium light (ML) or high light (HL), and how many hours the algae was in the light before they collected a sample (eg. 0.5h, 1h, 12h).  Multiple algae replicates were sampled at each timepoint - the last number in each sample name is an ID number for the replicate.\n",
        "\n",
        "How many genes are there in the full data matrix? How many samples?"
      ]
    },
    {
      "cell_type": "markdown",
      "metadata": {
        "id": "Qnie-IZ8vNgA",
        "colab_type": "text"
      },
      "source": [
        "_add your answer here_"
      ]
    },
    {
      "cell_type": "markdown",
      "metadata": {
        "id": "NjATr4BtvN2n",
        "colab_type": "text"
      },
      "source": [
        "Each of the numbers in the data matrix represents the number of reads that mapped to a specific gene in a specific sample.  What data type should the matrix be (strings? integers? floats?)? "
      ]
    },
    {
      "cell_type": "markdown",
      "metadata": {
        "id": "tIlYB4WAw83-",
        "colab_type": "text"
      },
      "source": [
        "_add your answer here_"
      ]
    },
    {
      "cell_type": "markdown",
      "metadata": {
        "id": "Q1BEk1lTw7yh",
        "colab_type": "text"
      },
      "source": [
        "### Normalizing the data "
      ]
    },
    {
      "cell_type": "markdown",
      "metadata": {
        "id": "MM7NkyidYRx-",
        "colab_type": "text"
      },
      "source": [
        "#### By Read Depth "
      ]
    },
    {
      "cell_type": "markdown",
      "metadata": {
        "id": "62fpjUXZ0fdi",
        "colab_type": "text"
      },
      "source": [
        "Take a look at the numbers in just the 10x10 subset of the matrix you printed above.  Which sample has the *fewest* reads mapping to gene `Cz01g00060`? What about the gene `Cz01g00070`?"
      ]
    },
    {
      "cell_type": "markdown",
      "metadata": {
        "id": "0Q2fxnNp09fc",
        "colab_type": "text"
      },
      "source": [
        "_add your answers here_"
      ]
    },
    {
      "cell_type": "markdown",
      "metadata": {
        "id": "bwaITl3lxmyB",
        "colab_type": "text"
      },
      "source": [
        "It's possible that the same sample has the fewest reads for both genes because that sample actually expresses less of those genes than the other samples... but it also could be because we just sequenced fewer reads from that sample overall.  **The total number of reads sequenced from a sample (from all genes) is known as a sample's read depth**.  We need to account for this before making any comparisons of gene expression between samples."
      ]
    },
    {
      "cell_type": "markdown",
      "metadata": {
        "id": "FC6WIFd1xuop",
        "colab_type": "text"
      },
      "source": [
        "Think about how you would calculate the read depth for each sample using the data in the matrix. Write code in the box below and store the values in a variable called `read_depth`."
      ]
    },
    {
      "cell_type": "code",
      "metadata": {
        "colab_type": "code",
        "id": "Yec8RtL09HU0",
        "colab": {}
      },
      "source": [
        "#type your code here\n",
        "## hint: one way to do this uses a for-loop - but there are other ways too!\n"
      ],
      "execution_count": null,
      "outputs": []
    },
    {
      "cell_type": "markdown",
      "metadata": {
        "id": "nCnGao-t6OaP",
        "colab_type": "text"
      },
      "source": [
        "Now make a plot so we can see the range of read depths across all samples."
      ]
    },
    {
      "cell_type": "code",
      "metadata": {
        "colab_type": "code",
        "id": "xtMjCS7J9UMx",
        "colab": {}
      },
      "source": [
        "#type your code here\n",
        "### hint: this could take many forms - try a scatterplot first\n"
      ],
      "execution_count": null,
      "outputs": []
    },
    {
      "cell_type": "markdown",
      "metadata": {
        "id": "j0RsZC5W6iTK",
        "colab_type": "text"
      },
      "source": [
        "There are some big differences between samples. The deepest-sequenced sample has ~8 times the number of reads as the most shallowly-sequenced sample. So we need to **normalize** the data matrix by read depth.  The new matrix will not have the *number* of reads that aligned to each gene, but rather the *fraction* of reads from each sample that aligned to each gene.\n",
        "\n",
        "Below is a function to normalize either the rows or columns of a data matrix by a vector (in our case, this vector is the read depth of each sample).  It takes three pieces of data (ie. parameters) which are listed in the comment lines below.  \n",
        "\n",
        "Pass the `rna_data` matrix and your `read_depth` variable to the function as parameters, along with whether you are trying to normalize the rows or columns (which ones represent samples?) to get a normalized matrix. Name the normalized matrix `rna_data_norm`"
      ]
    },
    {
      "cell_type": "code",
      "metadata": {
        "id": "MGPREFlrfU2I",
        "colab_type": "code",
        "colab": {}
      },
      "source": [
        "### this function has been written for you - no need to do anything here besides run the code/\n",
        "### use the next box to pass in your parameters and run the function\n",
        "\n",
        "def normalizeData(data_matrix,norm_values,norm_dimension):\n",
        "\n",
        "  ## data_matrix is a numeric matrix of data to be normalized\n",
        "  ## norm_values is a 1-dimension vector of normalization factors\n",
        "  ## norm_dimension must be either \"rows\" or \"columns\"\n",
        "\n",
        "  import numpy as np\n",
        "  if norm_dimension == \"rows\":\n",
        "    if len(norm_values) != len(data_matrix.index):\n",
        "      print(\"norm_values is the wrong size!\")\n",
        "      return data_matrix \n",
        "    return np.transpose(np.transpose(data_matrix)/norm_values)\n",
        "  if norm_dimension == \"columns\": \n",
        "    if len(norm_values) != len(data_matrix.columns):\n",
        "      print(\"norm_values is the wrong size!\")\n",
        "      return data_matrix\n",
        "    return data_matrix / norm_values\n"
      ],
      "execution_count": null,
      "outputs": []
    },
    {
      "cell_type": "code",
      "metadata": {
        "colab_type": "code",
        "id": "qT4lOzUj9tWF",
        "colab": {}
      },
      "source": [
        "#type your code here\n"
      ],
      "execution_count": null,
      "outputs": []
    },
    {
      "cell_type": "markdown",
      "metadata": {
        "id": "6B1Rh54gmetS",
        "colab_type": "text"
      },
      "source": [
        "#### By Gene Length"
      ]
    },
    {
      "cell_type": "markdown",
      "metadata": {
        "id": "mKhvmeMvpdLc",
        "colab_type": "text"
      },
      "source": [
        "Great! Now let's look at the normalized values for all samples for just the first 100 genes as a **heatmap**. A heatmap displays a matrix of numeric values as a grid where each number maps to a different color shade. An easy way to view a matrix as a heatmap is with the heatmap function from the seaborn package.  "
      ]
    },
    {
      "cell_type": "code",
      "metadata": {
        "id": "qDhEoDWHBhGj",
        "colab_type": "code",
        "colab": {}
      },
      "source": [
        "### just run this code - don't worry about writing anything new (unless you want to try a different plotting tool!)\n",
        "import seaborn as sns\n",
        "ax = sns.heatmap(rna_data_norm.iloc[0:100,:], linewidth=0)\n"
      ],
      "execution_count": null,
      "outputs": []
    },
    {
      "cell_type": "markdown",
      "metadata": {
        "id": "Esjd-MR2qiPo",
        "colab_type": "text"
      },
      "source": [
        "We can see that a couple rows (genes) have high values (darker colors) for many samples, and many genes have basically zero or very low values for all of the samples.  \n",
        "\n",
        "Again, this could be because those few dark-colored rows represent genes that are highly expressed in all samples - *but* it could also be because those genes are *longer* than the other genes, and we are sequencing many reads from the same long mRNA molecule.\n",
        "\n",
        "So, if we really want to have comparable values across genes and across samples, we also need to normalize our matrix by gene lengths.   \n",
        "\n",
        "First, let's download information about the genes, and take a look at the first few rows of the gene data table."
      ]
    },
    {
      "cell_type": "code",
      "metadata": {
        "id": "yktCzTAvmhVp",
        "colab_type": "code",
        "colab": {}
      },
      "source": [
        "### run this code as-is\n",
        "file_id = \"16LXBxn0hOqBgARJLyk8aHev3OjJbqflG\"\n",
        "file_download_link = \"https://docs.google.com/uc?export=download&id=\" + file_id \n",
        "\n",
        "!wget -q -O gene_info.txt --no-check-certificate \"$file_download_link\""
      ],
      "execution_count": null,
      "outputs": []
    },
    {
      "cell_type": "code",
      "metadata": {
        "colab_type": "code",
        "id": "Jb6qbVzW9-Kz",
        "colab": {}
      },
      "source": [
        "#type your code here to read in the gene info table - call the variable gene_info\n",
        "## separator is a tab, there are row and column headers\n"
      ],
      "execution_count": null,
      "outputs": []
    },
    {
      "cell_type": "code",
      "metadata": {
        "id": "opbMG13e-VjK",
        "colab_type": "code",
        "colab": {}
      },
      "source": [
        "### type code here to look at the first few lines of gene_info\n"
      ],
      "execution_count": null,
      "outputs": []
    },
    {
      "cell_type": "markdown",
      "metadata": {
        "id": "tjyvTKXEm_L0",
        "colab_type": "text"
      },
      "source": [
        "First things first - are the genes in the `gene_info` table all in the same order as the genes in the `rna_data_norm` matrix?  (**when you are combining data from two tables, it's always important to check that they line up - skipping this step can create big problems down the road!**)"
      ]
    },
    {
      "cell_type": "code",
      "metadata": {
        "id": "X3CUy4El-aBX",
        "colab_type": "code",
        "colab": {}
      },
      "source": [
        "## write code to check this here\n"
      ],
      "execution_count": null,
      "outputs": []
    },
    {
      "cell_type": "code",
      "metadata": {
        "id": "ieeereo2rFNt",
        "colab_type": "code",
        "colab": {}
      },
      "source": [
        "### now write code to normalize the rows of the data matrix by the 'length' column of gene_info\n",
        "### call the new data matrix 'rna_data_norm2'\n"
      ],
      "execution_count": null,
      "outputs": []
    },
    {
      "cell_type": "markdown",
      "metadata": {
        "id": "WeRvK8BrGoba",
        "colab_type": "text"
      },
      "source": [
        "### Visualizing the data"
      ]
    },
    {
      "cell_type": "markdown",
      "metadata": {
        "id": "IwxghzXUratN",
        "colab_type": "text"
      },
      "source": [
        "Now that we have normalized data, we can see how it looks all together!\n",
        "\n",
        "Principal Component Analysis (PCA) is an important technique in many areas of research (from biology to sociology!) that lets you see whether your data contains groups of samples that all have similar profiles (in our case - similar gene expression profiles).\n",
        "\n",
        "The way PCA does this is somewhat complicated, but the main result is that we will be able to make a 2-D plot where each sample is a dot, and samples that have similar gene expression profiles will be close to each other on the plot.\n",
        "\n",
        "Run the following code block as-is to make the PCA plot. (No need to code anything yourself for now - but someday you will be able to code this part on your own!)\n"
      ]
    },
    {
      "cell_type": "code",
      "metadata": {
        "id": "EcBLtMG1gj9E",
        "colab_type": "code",
        "colab": {}
      },
      "source": [
        "### load packages\n",
        "from sklearn.decomposition import PCA\n",
        "from sklearn.preprocessing import StandardScaler\n",
        "import numpy as np\n",
        "\n",
        "### this code filters out any rows that are all 'zero', then applies a log2 transformation and standardizes the data \n",
        "### (basically this helps squash extreme values so different genes are treated equally)\n",
        "filter=rna_data_norm2.sum( axis=1)>0\n",
        "rna_data_filtered=rna_data_norm2[filter]\n",
        "really_small_number = rna_data_filtered[rna_data_filtered > 0].min().min()\n",
        "rna_data_log2=(rna_data_filtered + really_small_number).applymap(np.log2)\n",
        "rna_data_log2 = StandardScaler().fit_transform(rna_data_log2)\n",
        "\n",
        "### run PCA\n",
        "pca = PCA(n_components=2)\n",
        "principalComponents = pca.fit_transform(rna_data_log2.transpose())\n",
        "rna_data_pca = pd.DataFrame(data = principalComponents\n",
        "             , columns = ['pc1', 'pc2'])\n",
        "\n",
        "### parse sample names to get find out which timepoint and light-treatment each was from\n",
        "rna_data_pca['samplename']=rna_data_filtered.columns\n",
        "rna_data_pca[['samplename','replicate']]=rna_data_pca.samplename.str.split(\"h\",expand=True)\n",
        "rna_data_pca[['light','timepoint']]=rna_data_pca.samplename.str.split(\".\",expand=True,  n=1)\n",
        "rna_data_pca.timepoint = pd.Categorical(rna_data_pca.timepoint)\n",
        "rna_data_pca.light = pd.Categorical(rna_data_pca.light)\n",
        "\n",
        "### now plot the first two principal components\n",
        "fig = plt.figure(figsize = (5,5))\n",
        "ax = fig.add_subplot(1,1,1) \n",
        "ax.set_xlabel('PC 1', fontsize = 15)\n",
        "ax.set_ylabel('PC 2', fontsize = 15)\n",
        "ax.set_title('Principal Component Plot', fontsize = 20)\n",
        "\n",
        "light_types=['ML','HL']\n",
        "light_shapes=['^','o']\n",
        "\n",
        "timepoint_types=rna_data_pca.timepoint.cat.categories[[0,1,2,4,5,3]]\n",
        "timepoint_colors=['red','orange','yellow','green','blue','purple']\n",
        "\n",
        "for ltype, lshape in zip(light_types,light_shapes):\n",
        "    for ttype, tcolor in zip(timepoint_types,timepoint_colors):\n",
        "      indicesToKeep = (rna_data_pca['light'] == ltype) & (rna_data_pca['timepoint'] == ttype)\n",
        "      df=rna_data_pca.loc[indicesToKeep]\n",
        "      ax.scatter(df.pc1, -1*df.pc2, s=50,c=tcolor, marker=lshape, label=ltype+\"_\"+ttype+\"h\",edgecolors='black')\n",
        "ax.legend(bbox_to_anchor=(1.05, 1), loc=2,ncol=2, borderaxespad=0.)"
      ],
      "execution_count": null,
      "outputs": []
    },
    {
      "cell_type": "markdown",
      "metadata": {
        "id": "r7BA4cj6_HzG",
        "colab_type": "text"
      },
      "source": [
        "### Drawing conclusions from the results"
      ]
    },
    {
      "cell_type": "markdown",
      "metadata": {
        "id": "4hWkp-MCcbfR",
        "colab_type": "text"
      },
      "source": [
        "Judging from the principal component plot you just made, which would you say matters more for gene expression - sample treatment (ie. whether they were exposed to medium or high light), or the timepoint of sample collection?  \n",
        "\n",
        "Put another way - are samples generally more similar to other samples from the same treatment, or other samples from the same timepoint?"
      ]
    },
    {
      "cell_type": "markdown",
      "metadata": {
        "id": "oPFy6StMcpLl",
        "colab_type": "text"
      },
      "source": [
        "_add your answer here_"
      ]
    },
    {
      "cell_type": "markdown",
      "metadata": {
        "id": "YzlEh0fLc2hw",
        "colab_type": "text"
      },
      "source": [
        "At which timepoint would you say that the expression profiles of samples from the two treatments are *most different*?"
      ]
    },
    {
      "cell_type": "markdown",
      "metadata": {
        "id": "k2dPic9hc3_b",
        "colab_type": "text"
      },
      "source": [
        "_add your answer here_"
      ]
    },
    {
      "cell_type": "markdown",
      "metadata": {
        "id": "KiU7hBXocSRJ",
        "colab_type": "text"
      },
      "source": [
        "Now take a look at figure 5A in the paper describing the experiment.  How did we do?\n",
        "\n",
        "![alt text](https://www.pnas.org/content/pnas/114/21/E4296/F5.large.jpg)"
      ]
    }
  ]
}